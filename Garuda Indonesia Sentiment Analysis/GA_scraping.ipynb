{
 "cells": [
  {
   "cell_type": "code",
   "execution_count": 2,
   "metadata": {},
   "outputs": [],
   "source": [
    "import requests\n",
    "from bs4 import BeautifulSoup\n",
    "import pandas as pd"
   ]
  },
  {
   "cell_type": "code",
   "execution_count": 3,
   "metadata": {},
   "outputs": [
    {
     "name": "stdout",
     "output_type": "stream",
     "text": [
      "Scraping page 1\n",
      "   ---> 100 total reviews\n",
      "   ---> 100 total dates\n",
      "   ---> 100 total dates\n",
      "Scraping page 2\n",
      "   ---> 200 total reviews\n",
      "   ---> 200 total dates\n",
      "   ---> 200 total dates\n",
      "Scraping page 3\n",
      "   ---> 300 total reviews\n",
      "   ---> 300 total dates\n",
      "   ---> 300 total dates\n",
      "Scraping page 4\n",
      "   ---> 400 total reviews\n",
      "   ---> 400 total dates\n",
      "   ---> 400 total dates\n",
      "Scraping page 5\n",
      "   ---> 500 total reviews\n",
      "   ---> 500 total dates\n",
      "   ---> 500 total dates\n",
      "Scraping page 6\n",
      "   ---> 600 total reviews\n",
      "   ---> 600 total dates\n",
      "   ---> 600 total dates\n",
      "Scraping page 7\n",
      "   ---> 700 total reviews\n",
      "   ---> 700 total dates\n",
      "   ---> 700 total dates\n",
      "Scraping page 8\n",
      "   ---> 800 total reviews\n",
      "   ---> 800 total dates\n",
      "   ---> 800 total dates\n",
      "Scraping page 9\n",
      "   ---> 900 total reviews\n",
      "   ---> 900 total dates\n",
      "   ---> 899 total dates\n",
      "Scraping page 10\n",
      "   ---> 919 total reviews\n",
      "   ---> 919 total dates\n",
      "   ---> 918 total dates\n"
     ]
    }
   ],
   "source": [
    "base_url = \"https://www.airlinequality.com/airline-reviews/garuda-indonesia\"\n",
    "pages = 10\n",
    "page_size = 100\n",
    "\n",
    "reviews = []\n",
    "dates = []\n",
    "ratings = []\n",
    "\n",
    "# for i in range(1, pages + 1):\n",
    "for i in range(1, pages + 1):\n",
    "\n",
    "    print(f\"Scraping page {i}\")\n",
    "\n",
    "    # Create URL to collect links from paginated data\n",
    "    url = f\"{base_url}/page/{i}/?sortby=post_date%3ADesc&pagesize={page_size}\"\n",
    "\n",
    "    # Collect HTML data from this page\n",
    "    response = requests.get(url)\n",
    "\n",
    "    # Parse content\n",
    "    content = response.content\n",
    "    parsed_content = BeautifulSoup(content, 'html.parser')\n",
    "    for para in parsed_content.find_all(\"div\", {\"class\": \"text_content\"}):\n",
    "        reviews.append(para.get_text())\n",
    "    for para in parsed_content.find_all(\"time\", {\"itemprop\": \"datePublished\"}):\n",
    "        dates.append(para['datetime'])\n",
    "\n",
    "    review_rating_divs = parsed_content.find_all(\n",
    "        \"div\", attrs={\"itemprop\": \"reviewRating\"})\n",
    "    for div in review_rating_divs:\n",
    "        rating = div.find('span', attrs={'itemprop': 'ratingValue'})\n",
    "        ratings.append(rating.get_text())\n",
    "\n",
    "    print(f\"   ---> {len(reviews)} total reviews\")\n",
    "    print(f\"   ---> {len(dates)} total dates\")\n",
    "    print(f\"   ---> {len(ratings)} total dates\")"
   ]
  },
  {
   "cell_type": "code",
   "execution_count": 4,
   "metadata": {},
   "outputs": [
    {
     "data": {
      "text/html": [
       "<div>\n",
       "<style scoped>\n",
       "    .dataframe tbody tr th:only-of-type {\n",
       "        vertical-align: middle;\n",
       "    }\n",
       "\n",
       "    .dataframe tbody tr th {\n",
       "        vertical-align: top;\n",
       "    }\n",
       "\n",
       "    .dataframe thead th {\n",
       "        text-align: right;\n",
       "    }\n",
       "</style>\n",
       "<table border=\"1\" class=\"dataframe\">\n",
       "  <thead>\n",
       "    <tr style=\"text-align: right;\">\n",
       "      <th></th>\n",
       "      <th>reviews</th>\n",
       "      <th>date</th>\n",
       "    </tr>\n",
       "  </thead>\n",
       "  <tbody>\n",
       "    <tr>\n",
       "      <th>0</th>\n",
       "      <td>✅ Trip Verified |  Flew on GA860 Jakarta to Ho...</td>\n",
       "      <td>2024-04-10</td>\n",
       "    </tr>\n",
       "    <tr>\n",
       "      <th>1</th>\n",
       "      <td>✅ Trip Verified |  Flew on GA-89 Amsterdam to ...</td>\n",
       "      <td>2024-03-20</td>\n",
       "    </tr>\n",
       "    <tr>\n",
       "      <th>2</th>\n",
       "      <td>✅ Trip Verified |  Flew on GA-88 Jakarta to Am...</td>\n",
       "      <td>2024-03-16</td>\n",
       "    </tr>\n",
       "    <tr>\n",
       "      <th>3</th>\n",
       "      <td>✅ Trip Verified | Flew on GA682 Jakarta - Soro...</td>\n",
       "      <td>2024-02-25</td>\n",
       "    </tr>\n",
       "    <tr>\n",
       "      <th>4</th>\n",
       "      <td>Not Verified | The ground experience is terrib...</td>\n",
       "      <td>2024-02-25</td>\n",
       "    </tr>\n",
       "  </tbody>\n",
       "</table>\n",
       "</div>"
      ],
      "text/plain": [
       "                                             reviews        date\n",
       "0  ✅ Trip Verified |  Flew on GA860 Jakarta to Ho...  2024-04-10\n",
       "1  ✅ Trip Verified |  Flew on GA-89 Amsterdam to ...  2024-03-20\n",
       "2  ✅ Trip Verified |  Flew on GA-88 Jakarta to Am...  2024-03-16\n",
       "3  ✅ Trip Verified | Flew on GA682 Jakarta - Soro...  2024-02-25\n",
       "4  Not Verified | The ground experience is terrib...  2024-02-25"
      ]
     },
     "execution_count": 4,
     "metadata": {},
     "output_type": "execute_result"
    }
   ],
   "source": [
    "df = pd.DataFrame()\n",
    "df[\"reviews\"] = reviews\n",
    "df['date'] = dates\n",
    "\n",
    "df.head()"
   ]
  }
 ],
 "metadata": {
  "kernelspec": {
   "display_name": "gpu_py38",
   "language": "python",
   "name": "python3"
  },
  "language_info": {
   "codemirror_mode": {
    "name": "ipython",
    "version": 3
   },
   "file_extension": ".py",
   "mimetype": "text/x-python",
   "name": "python",
   "nbconvert_exporter": "python",
   "pygments_lexer": "ipython3",
   "version": "3.8.18"
  }
 },
 "nbformat": 4,
 "nbformat_minor": 2
}
